{
  "nbformat": 4,
  "nbformat_minor": 0,
  "metadata": {
    "colab": {
      "provenance": [],
      "authorship_tag": "ABX9TyPpqkJZvqb0CKJVIpzr42Tj"
    },
    "kernelspec": {
      "name": "python3",
      "display_name": "Python 3"
    },
    "language_info": {
      "name": "python"
    }
  },
  "cells": [
    {
      "cell_type": "code",
      "execution_count": null,
      "metadata": {
        "id": "Dt4u1oPj8nkv"
      },
      "outputs": [],
      "source": []
    },
    {
      "cell_type": "markdown",
      "source": [
        "###1.Write a python program to find those numbers which are divisible by 7 and multiples of 5, for user input"
      ],
      "metadata": {
        "id": "nRpgH9Rd_GpT"
      }
    },
    {
      "cell_type": "code",
      "source": [
        "a=int(input(\"enter starting number: \"))\n",
        "b=int(input(\"enter ending number: \"))\n",
        "for c in range(a,b):\n",
        "  if c%7==0 and c%5==0:\n",
        "    print(c)\n"
      ],
      "metadata": {
        "colab": {
          "base_uri": "https://localhost:8080/"
        },
        "id": "j4J_r3t-_3EL",
        "outputId": "f59e151d-38f5-4061-a2fe-673312393e3a"
      },
      "execution_count": null,
      "outputs": [
        {
          "output_type": "stream",
          "name": "stdout",
          "text": [
            "enter starting number: 1\n",
            "enter ending number: 100\n",
            "35\n",
            "70\n"
          ]
        }
      ]
    },
    {
      "cell_type": "markdown",
      "source": [
        "###2.write a python program to check the user input is even or odd or zero"
      ],
      "metadata": {
        "id": "cycRbjG6HLp3"
      }
    },
    {
      "cell_type": "code",
      "source": [
        "a=int(input(\"enter a number: \"))\n",
        "if a==0:\n",
        "  print(\"entered number is zero\")\n",
        "elif a%2==0:\n",
        "  print(\"entered number is even\")\n",
        "else:\n",
        "  print(\"entered number is odd\")"
      ],
      "metadata": {
        "id": "AV8XEOte_RYS",
        "colab": {
          "base_uri": "https://localhost:8080/"
        },
        "outputId": "a7a2078d-6519-4309-b06d-da58e7d109a4"
      },
      "execution_count": null,
      "outputs": [
        {
          "output_type": "stream",
          "name": "stdout",
          "text": [
            "enter a number: 32\n",
            "entered number is even\n"
          ]
        }
      ]
    },
    {
      "cell_type": "markdown",
      "source": [
        "###3.Print decimal part of an input number. If the decimal part is zero print the string : “INTEGER”"
      ],
      "metadata": {
        "id": "KulcuAYHI3AP"
      }
    },
    {
      "cell_type": "code",
      "source": [
        "a=float(input(\"enter a number\"))\n",
        "b=int(a)\n",
        "if b==a:\n",
        "  print(\"integer\")\n",
        "else:\n",
        "   print(f\"decimal part is {a-b}\")\n"
      ],
      "metadata": {
        "colab": {
          "base_uri": "https://localhost:8080/"
        },
        "outputId": "8f9a8ba5-849e-4774-fd7a-9a63989f0717",
        "id": "tpiFwhVuNKAb"
      },
      "execution_count": 22,
      "outputs": [
        {
          "output_type": "stream",
          "name": "stdout",
          "text": [
            "enter a number43\n",
            "integer\n"
          ]
        }
      ]
    }
  ]
}