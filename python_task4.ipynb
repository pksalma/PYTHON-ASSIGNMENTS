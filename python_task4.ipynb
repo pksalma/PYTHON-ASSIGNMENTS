{
  "nbformat": 4,
  "nbformat_minor": 0,
  "metadata": {
    "colab": {
      "provenance": [],
      "authorship_tag": "ABX9TyNkEGf1vW0RbSovdKqo6mMC",
      "include_colab_link": true
    },
    "kernelspec": {
      "name": "python3",
      "display_name": "Python 3"
    },
    "language_info": {
      "name": "python"
    }
  },
  "cells": [
    {
      "cell_type": "markdown",
      "metadata": {
        "id": "view-in-github",
        "colab_type": "text"
      },
      "source": [
        "<a href=\"https://colab.research.google.com/github/pksalma/PYTHON-ASSIGNMENTS/blob/main/python_task4.ipynb\" target=\"_parent\"><img src=\"https://colab.research.google.com/assets/colab-badge.svg\" alt=\"Open In Colab\"/></a>"
      ]
    },
    {
      "cell_type": "code",
      "execution_count": null,
      "metadata": {
        "id": "JEGK5MZJriBw"
      },
      "outputs": [],
      "source": []
    },
    {
      "cell_type": "markdown",
      "source": [
        "1.Write a program to create a function show_employee() using the following conditions. It should accept the employee’s name and salary and display both. If the salary is missing in the function call then assign default value 9000 to salary"
      ],
      "metadata": {
        "id": "kyy4Ek6KrtCg"
      }
    },
    {
      "cell_type": "code",
      "source": [
        "def show_employee(name,salary=9000):\n",
        "  print(f\"Name: {name} salary: {salary}\")\n",
        "show_employee(\"Ben\",12000)\n",
        "show_employee(\"sahda\")"
      ],
      "metadata": {
        "colab": {
          "base_uri": "https://localhost:8080/"
        },
        "id": "MqGiRXj_rwZl",
        "outputId": "e5bab3c1-b8d3-4f4c-ab9d-3724c8d25f41"
      },
      "execution_count": null,
      "outputs": [
        {
          "output_type": "stream",
          "name": "stdout",
          "text": [
            "Name: Ben salary: 12000\n",
            "Name: sahda salary: 9000\n"
          ]
        }
      ]
    },
    {
      "cell_type": "markdown",
      "source": [
        "\n",
        "2.Create an outer function that will accept two parameters, a and b Create an inner function inside an outer function that will calculate the addition of a and b At last, an outer function will add 5 into addition and return it"
      ],
      "metadata": {
        "id": "SY7VlktcsDW_"
      }
    },
    {
      "cell_type": "code",
      "source": [
        "def outter_function(a,b):\n",
        "  def inner_function(a,b):\n",
        "    return a+b\n",
        "  output=inner_function(a,b)+5\n",
        "  return output\n",
        "output=outter_function(4,6)\n",
        "print(f\"Output is {output}\")"
      ],
      "metadata": {
        "colab": {
          "base_uri": "https://localhost:8080/"
        },
        "id": "S_VMjnCasG1n",
        "outputId": "88b53abf-c91f-4a4f-d17d-47dc33335b49"
      },
      "execution_count": null,
      "outputs": [
        {
          "output_type": "stream",
          "name": "stdout",
          "text": [
            "Output is 15\n"
          ]
        }
      ]
    },
    {
      "cell_type": "markdown",
      "source": [
        "3.Generate a Python list of all the even numbers between 4 to 30"
      ],
      "metadata": {
        "id": "CshPu7EZsNLf"
      }
    },
    {
      "cell_type": "code",
      "source": [
        "\n",
        "even=[n for n in range(4,31) if n%2==0]\n",
        "print(f\"Even numbers between 4 and 30 are :{even}\")"
      ],
      "metadata": {
        "colab": {
          "base_uri": "https://localhost:8080/"
        },
        "id": "zJUuHB5tsOYV",
        "outputId": "25e0567f-f13c-4601-e2de-55418f11886b"
      },
      "execution_count": null,
      "outputs": [
        {
          "output_type": "stream",
          "name": "stdout",
          "text": [
            "Even numbers between 4 and 30 are :[4, 6, 8, 10, 12, 14, 16, 18, 20, 22, 24, 26, 28, 30]\n"
          ]
        }
      ]
    },
    {
      "cell_type": "markdown",
      "source": [
        "4.Given a list, the task is to write a Python program to check if the value exists in the list or not using the lambda function."
      ],
      "metadata": {
        "id": "43S6plG-sYKm"
      }
    },
    {
      "cell_type": "code",
      "source": [
        "L=[1,2,3,4,5]\n",
        "element=int(input(\"Enter element to be checked in the list :\"))\n",
        "result=filter(lambda x:x==element,L)\n",
        "if(list(result)):\n",
        "  print(\"The entered element is present in the list\")\n",
        "else:\n",
        "  print(\"The entered element is not present in the list\")"
      ],
      "metadata": {
        "colab": {
          "base_uri": "https://localhost:8080/"
        },
        "id": "Ko0xN2JHsZ5G",
        "outputId": "d0f9d7d7-468a-4564-9360-973babda1f6b"
      },
      "execution_count": null,
      "outputs": [
        {
          "output_type": "stream",
          "name": "stdout",
          "text": [
            "Enter element to be checked in the list :5\n",
            "The entered element is present in the list\n"
          ]
        }
      ]
    },
    {
      "cell_type": "markdown",
      "source": [
        "5.Sort the points based on their sum of elements in the tuples\n",
        "\n",
        "points = [(1, 2), (5, 3), (0, 7), (3, 1)]"
      ],
      "metadata": {
        "id": "AzWnGI1IspFX"
      }
    },
    {
      "cell_type": "code",
      "source": [
        "points = [(1, 2), (5, 3), (0, 7), (3, 1)]\n",
        "result=sorted(points,key=lambda x:x[0]+x[1])\n",
        "print (result)"
      ],
      "metadata": {
        "colab": {
          "base_uri": "https://localhost:8080/"
        },
        "id": "PlfYQd92sqge",
        "outputId": "e0a6cebf-3603-485f-b66e-66a404dd3f83"
      },
      "execution_count": null,
      "outputs": [
        {
          "output_type": "stream",
          "name": "stdout",
          "text": [
            "[(1, 2), (3, 1), (0, 7), (5, 3)]\n"
          ]
        }
      ]
    },
    {
      "cell_type": "markdown",
      "source": [
        "6.Write a python function, which will find all such numbers between 1000 and 3000 (both included) such that each digit of the number is an even number. Return the results as a list"
      ],
      "metadata": {
        "id": "wqm3JqWHs7eW"
      }
    },
    {
      "cell_type": "code",
      "source": [
        "def even_digits():\n",
        "  result=[]\n",
        "  for n in range (1000,3001):\n",
        "    digits=[int(digit) for digit in str(n)]\n",
        "    if all(digit%2==0 for digit in digits):\n",
        "      result.append(n)\n",
        "  return result\n",
        "output=even_digits()\n",
        "print(output)"
      ],
      "metadata": {
        "colab": {
          "base_uri": "https://localhost:8080/"
        },
        "id": "DP2Hc2WBs9ce",
        "outputId": "2bbf8e37-bab5-4b55-a7e3-977a649a7fd6"
      },
      "execution_count": null,
      "outputs": [
        {
          "output_type": "stream",
          "name": "stdout",
          "text": [
            "[2000, 2002, 2004, 2006, 2008, 2020, 2022, 2024, 2026, 2028, 2040, 2042, 2044, 2046, 2048, 2060, 2062, 2064, 2066, 2068, 2080, 2082, 2084, 2086, 2088, 2200, 2202, 2204, 2206, 2208, 2220, 2222, 2224, 2226, 2228, 2240, 2242, 2244, 2246, 2248, 2260, 2262, 2264, 2266, 2268, 2280, 2282, 2284, 2286, 2288, 2400, 2402, 2404, 2406, 2408, 2420, 2422, 2424, 2426, 2428, 2440, 2442, 2444, 2446, 2448, 2460, 2462, 2464, 2466, 2468, 2480, 2482, 2484, 2486, 2488, 2600, 2602, 2604, 2606, 2608, 2620, 2622, 2624, 2626, 2628, 2640, 2642, 2644, 2646, 2648, 2660, 2662, 2664, 2666, 2668, 2680, 2682, 2684, 2686, 2688, 2800, 2802, 2804, 2806, 2808, 2820, 2822, 2824, 2826, 2828, 2840, 2842, 2844, 2846, 2848, 2860, 2862, 2864, 2866, 2868, 2880, 2882, 2884, 2886, 2888]\n"
          ]
        }
      ]
    },
    {
      "cell_type": "markdown",
      "source": [
        "7.Write a python function that accepts a sentence and calculate and return the number of letters and digits."
      ],
      "metadata": {
        "id": "DeJi7aSctPW2"
      }
    },
    {
      "cell_type": "code",
      "source": [
        "def counter(sentence):\n",
        "  letters=0\n",
        "  digits=0\n",
        "  for char in sentence:\n",
        "    if(char.isalpha()):\n",
        "      letters+=1\n",
        "    elif(char.isdigit()):\n",
        "      digits+=1\n",
        "  return letters,digits\n",
        "sentence=\"hello world! 123\"\n",
        "letters,digits=counter(sentence)\n",
        "print(f\"LETTERS {letters}\")\n",
        "print(f\"DIGITS {digits}\")"
      ],
      "metadata": {
        "colab": {
          "base_uri": "https://localhost:8080/"
        },
        "id": "_JDAv_BLtRUF",
        "outputId": "81d585f1-1bc3-4218-d539-07344c1d72f3"
      },
      "execution_count": null,
      "outputs": [
        {
          "output_type": "stream",
          "name": "stdout",
          "text": [
            "LETTERS 10\n",
            "DIGITS 3\n"
          ]
        }
      ]
    },
    {
      "cell_type": "markdown",
      "source": [
        "8.Write a Python program to convert all the characters into uppercase and lowercase and eliminate duplicate letters from a given sequence. Use the map() function"
      ],
      "metadata": {
        "id": "pxOO900UtZM8"
      }
    },
    {
      "cell_type": "code",
      "source": [
        "def convert(sentence):\n",
        "  upper=map(str.upper,sentence)\n",
        "  lower=map(str.lower,sentence)\n",
        "  uniquechars=set(upper)|set(lower)\n",
        "  return uniquechars\n",
        "sentence=\"Hello world\"\n",
        "result=convert(sentence)\n",
        "print(f\"unique characters : {result}\")"
      ],
      "metadata": {
        "colab": {
          "base_uri": "https://localhost:8080/"
        },
        "id": "W3tZ2j5ttadM",
        "outputId": "d5c7ffd9-2b90-4d11-80cd-c256bf1821c4"
      },
      "execution_count": null,
      "outputs": [
        {
          "output_type": "stream",
          "name": "stdout",
          "text": [
            "unique characters : {'r', 'E', 'd', 'W', 'w', 'R', 'h', 'O', ' ', 'e', 'H', 'D', 'l', 'L', 'o'}\n"
          ]
        }
      ]
    },
    {
      "cell_type": "markdown",
      "source": [
        "9.Write a Python program to element wise add two given lists and find the difference between them. Use the map() function"
      ],
      "metadata": {
        "id": "g5E-97GqtitG"
      }
    },
    {
      "cell_type": "code",
      "source": [
        "\n",
        "def addition(list1,list2):\n",
        "  sum=map(lambda x,y:x+y,list1,list2)\n",
        "  return sum\n",
        "def difference(list1,list2):\n",
        "  difference=map(lambda x,y:x-y,list1,list2)\n",
        "  return difference\n",
        "list1=[1,2,3,4,5]\n",
        "list2=[6,7,8,9,10]\n",
        "sum=addition(list1,list2)\n",
        "difference=difference(list1,list2)\n",
        "print(f\"The addition of the two list :{list(sum)}\")\n",
        "print(f\"The difference of the two list :{list(difference)}\")"
      ],
      "metadata": {
        "colab": {
          "base_uri": "https://localhost:8080/"
        },
        "id": "STwUO1QftnF1",
        "outputId": "d9621e0f-4a65-4e95-f516-c0d779e5848c"
      },
      "execution_count": null,
      "outputs": [
        {
          "output_type": "stream",
          "name": "stdout",
          "text": [
            "The addition of the two list :[7, 9, 11, 13, 15]\n",
            "The difference of the two list :[-5, -5, -5, -5, -5]\n"
          ]
        }
      ]
    },
    {
      "cell_type": "markdown",
      "source": [
        "10.Write a Python program to filter the height and weight of students, which are stored in a dictionary using lambda."
      ],
      "metadata": {
        "id": "uQLf1ew6tyhO"
      }
    },
    {
      "cell_type": "code",
      "source": [
        "mydict={'anu': (6.2, 71), 'airin': (5.9, 65), 'ayan': (6.0, 68), 'sahda': (5.8, 66)}\n",
        "filtereddict=filter(lambda item:item[1][0]>6 and item[1][1]>70,mydict.items())\n",
        "print(f\"height greter than 6ft and weight greater than 70kg :{dict(filtereddict)}\")\n"
      ],
      "metadata": {
        "colab": {
          "base_uri": "https://localhost:8080/"
        },
        "id": "yUhB2Nswtzqp",
        "outputId": "5ebdf135-ca0f-45e3-afd0-da1275a80d8e"
      },
      "execution_count": null,
      "outputs": [
        {
          "output_type": "stream",
          "name": "stdout",
          "text": [
            "height greter than 6ft and weight greater than 70kg :{'anu': (6.2, 71)}\n"
          ]
        }
      ]
    },
    {
      "cell_type": "markdown",
      "source": [
        "11.Write a Python program to remove all elements from a given list present in another list using lambda."
      ],
      "metadata": {
        "id": "JSR0l7ApuMi2"
      }
    },
    {
      "cell_type": "code",
      "source": [
        "list1= [1, 2, 3, 4, 5, 6, 7, 8, 9, 10]\n",
        "list2= [2, 4, 6, 8]\n",
        "filteredlist=filter(lambda x:x not in list2,list1)\n",
        "print(f\"List 1 after removing elements from list 2 :{list(filteredlist)} \")"
      ],
      "metadata": {
        "colab": {
          "base_uri": "https://localhost:8080/"
        },
        "id": "t4jEE_vVuQGd",
        "outputId": "3e6abaf9-b252-4391-b710-495af93cd413"
      },
      "execution_count": null,
      "outputs": [
        {
          "output_type": "stream",
          "name": "stdout",
          "text": [
            "List 1 after removing elements from list 2 :[1, 3, 5, 7, 9, 10] \n"
          ]
        }
      ]
    },
    {
      "cell_type": "markdown",
      "source": [
        "12.Write a Python program to calculate the product of a given list of numbers using lambda."
      ],
      "metadata": {
        "id": "KjSJgUEDuaAl"
      }
    },
    {
      "cell_type": "code",
      "source": [
        "list=[1, 2, 3, 4, 5, 6, 7, 8, 9, 10]\n",
        "import functools\n",
        "product=functools.reduce(lambda x,y:x*y,list)\n",
        "print(f\"The product of the given list of numbers :{product}\")"
      ],
      "metadata": {
        "colab": {
          "base_uri": "https://localhost:8080/"
        },
        "id": "zczvqraYudhd",
        "outputId": "aae47043-7873-4484-97df-678f9f540b50"
      },
      "execution_count": null,
      "outputs": [
        {
          "output_type": "stream",
          "name": "stdout",
          "text": [
            "The product of the given list of numbers :3628800\n"
          ]
        }
      ]
    },
    {
      "cell_type": "markdown",
      "source": [
        "13.Write a Python program to multiply all the numbers in a given list using lambda."
      ],
      "metadata": {
        "id": "RHylhAFSujpu"
      }
    },
    {
      "cell_type": "code",
      "source": [
        "list=[4, 3, 2, 2, -1, 18]\n",
        "import functools\n",
        "product=functools.reduce(lambda x,y:x*y,list)\n",
        "print(f\"The result after multiplying all the numbers of the given list of numbers :{product}\")"
      ],
      "metadata": {
        "colab": {
          "base_uri": "https://localhost:8080/"
        },
        "id": "ACkAuND7ulfl",
        "outputId": "46222988-1ad0-44e9-d9b4-e7f11d4ac7e0"
      },
      "execution_count": null,
      "outputs": [
        {
          "output_type": "stream",
          "name": "stdout",
          "text": [
            "The result after multiplying all the numbers of the given list of numbers :-864\n"
          ]
        }
      ]
    },
    {
      "cell_type": "markdown",
      "source": [],
      "metadata": {
        "id": "_HZ86bQIva6d"
      }
    },
    {
      "cell_type": "markdown",
      "source": [
        "14.Write a Python program to calculate the average value of the numbers in a given tuple of tuples using lambda."
      ],
      "metadata": {
        "id": "56GNUOxYuvLN"
      }
    },
    {
      "cell_type": "code",
      "source": [
        "from functools import reduce\n",
        "numbers_tuple = ((10, 10, 10), (30, 45, 56), (81, 80, 39), (1, 2, 3))\n",
        "sum_tuples = reduce(lambda x, y: tuple(map(lambda a, b: a + b, x, y)), numbers_tuple)\n",
        "average_tuple = tuple(map(lambda x: x / len(numbers_tuple), sum_tuples))\n",
        "print(average_tuple)"
      ],
      "metadata": {
        "colab": {
          "base_uri": "https://localhost:8080/"
        },
        "id": "jKAuAMQCxF3M",
        "outputId": "0237a3fb-34ac-4041-a1e4-42e39e1a7aee"
      },
      "execution_count": null,
      "outputs": [
        {
          "output_type": "stream",
          "name": "stdout",
          "text": [
            "(30.5, 34.25, 27.0)\n"
          ]
        }
      ]
    },
    {
      "cell_type": "markdown",
      "source": [
        "15.Write a Python program to sort a given mixed list of integers and strings using lambda. Numbers must be sorted before strings."
      ],
      "metadata": {
        "id": "tatTbNdHxlVw"
      }
    },
    {
      "cell_type": "code",
      "source": [
        "mylist=[19, 'red', 12, 'green', 'blue', 10, 'white', 'green', 1]\n",
        "sortedlist=sorted(mylist,key=lambda x:(isinstance(x,str),x))\n",
        "print(f\"Sorted list :{sortedlist}\")\n"
      ],
      "metadata": {
        "colab": {
          "base_uri": "https://localhost:8080/"
        },
        "id": "uUkhDjlGxoj8",
        "outputId": "4235f3ab-5fe6-4da4-8714-28e06ed03bca"
      },
      "execution_count": null,
      "outputs": [
        {
          "output_type": "stream",
          "name": "stdout",
          "text": [
            "Sorted list :[1, 10, 12, 19, 'blue', 'green', 'green', 'red', 'white']\n"
          ]
        }
      ]
    },
    {
      "cell_type": "markdown",
      "source": [
        "16.Write a Python program to count the occurrences of items in a given list using lambda."
      ],
      "metadata": {
        "id": "JkJ2NVxqxsbb"
      }
    },
    {
      "cell_type": "code",
      "source": [
        "mylist=[3, 4, 5, 8, 0, 3, 8, 5, 0, 3, 1, 5, 2, 3, 4, 2]\n",
        "mydict={}\n",
        "for i in mylist:\n",
        "  if i in mydict:\n",
        "    mydict[i]+=1\n",
        "  else:\n",
        "    mydict[i]=1\n",
        "print(f\"The occurrences of items in a given list :{mydict}\")"
      ],
      "metadata": {
        "colab": {
          "base_uri": "https://localhost:8080/"
        },
        "id": "aLrdc-C5xvvT",
        "outputId": "2b5d2e44-dce3-472f-b385-39a37fd3d935"
      },
      "execution_count": null,
      "outputs": [
        {
          "output_type": "stream",
          "name": "stdout",
          "text": [
            "The occurrences of items in a given list :{3: 4, 4: 2, 5: 3, 8: 2, 0: 2, 1: 1, 2: 2}\n"
          ]
        }
      ]
    }
  ]
}