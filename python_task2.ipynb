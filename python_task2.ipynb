{
  "nbformat": 4,
  "nbformat_minor": 0,
  "metadata": {
    "colab": {
      "provenance": []
    },
    "kernelspec": {
      "name": "python3",
      "display_name": "Python 3"
    },
    "language_info": {
      "name": "python"
    }
  },
  "cells": [
    {
      "cell_type": "code",
      "execution_count": null,
      "metadata": {
        "id": "NTTgGpwiCcqh"
      },
      "outputs": [],
      "source": []
    },
    {
      "cell_type": "markdown",
      "source": [
        "###1.write a python program to sum all the items in a list"
      ],
      "metadata": {
        "id": "n-pVhAHYCeCs"
      }
    },
    {
      "cell_type": "code",
      "source": [
        "b=[1,2,3,4,5]\n",
        "sum=0\n",
        "for i in b:\n",
        "  sum +=i\n",
        "print(sum)"
      ],
      "metadata": {
        "colab": {
          "base_uri": "https://localhost:8080/"
        },
        "id": "gLMiI7TNCu84",
        "outputId": "fdd4c4c6-86d9-4425-e7f6-63c2288321c3"
      },
      "execution_count": 2,
      "outputs": [
        {
          "output_type": "stream",
          "name": "stdout",
          "text": [
            "15\n"
          ]
        }
      ]
    },
    {
      "cell_type": "markdown",
      "source": [
        "###2. Write a Python program to get the largest number from a list.\n"
      ],
      "metadata": {
        "id": "1WbSfPRCF-Ua"
      }
    },
    {
      "cell_type": "code",
      "source": [
        "b=[1,2,3,4,5]\n",
        "largest=b[0]\n",
        "for i in b:\n",
        "  if(i>largest):\n",
        "    largest=i\n",
        "print(largest)"
      ],
      "metadata": {
        "colab": {
          "base_uri": "https://localhost:8080/"
        },
        "id": "j1ukslq1DFfw",
        "outputId": "2b5da750-899d-4188-bf59-1d3216177689"
      },
      "execution_count": 11,
      "outputs": [
        {
          "output_type": "stream",
          "name": "stdout",
          "text": [
            "5\n"
          ]
        }
      ]
    },
    {
      "cell_type": "markdown",
      "source": [
        "###3. Write a Python program to count the number of strings from a given list of strings. The string length is 2 or more and the first and last characters are the same.\n",
        "Sample List : ['abc', 'xyz', 'aba', '1221']\n",
        "Expected Result : 2\n"
      ],
      "metadata": {
        "id": "q5_m8hRwGRXq"
      }
    },
    {
      "cell_type": "code",
      "source": [
        "b=['abc', 'xyz', 'aba', '1221']\n",
        "count=0\n",
        "for string in b:\n",
        "  if(len(string)>=2 and string[0]==string[-1] ):\n",
        "    count +=1\n",
        "print(count)\n"
      ],
      "metadata": {
        "colab": {
          "base_uri": "https://localhost:8080/"
        },
        "id": "W1bsY6FtEZRD",
        "outputId": "a855b692-ee15-4a6e-cd65-c4b929288fc2"
      },
      "execution_count": 14,
      "outputs": [
        {
          "output_type": "stream",
          "name": "stdout",
          "text": [
            "2\n"
          ]
        }
      ]
    },
    {
      "cell_type": "markdown",
      "source": [
        "###4. Write a Python program to remove duplicates from a list."
      ],
      "metadata": {
        "id": "rNWTYwXjIOFo"
      }
    },
    {
      "cell_type": "code",
      "source": [
        "l=['a','a','b','c','c']\n",
        "b=set(l)\n",
        "c=list(b)\n",
        "print(c)\n"
      ],
      "metadata": {
        "colab": {
          "base_uri": "https://localhost:8080/"
        },
        "id": "_YuG-4KtE0Da",
        "outputId": "bd619c96-7704-496e-cfec-d2bfb449cb50"
      },
      "execution_count": 20,
      "outputs": [
        {
          "output_type": "stream",
          "name": "stdout",
          "text": [
            "['c', 'a', 'b']\n"
          ]
        }
      ]
    },
    {
      "cell_type": "markdown",
      "source": [
        "###5. Write a Python program to check if a list is empty or not.\n"
      ],
      "metadata": {
        "id": "ONW43nSxMDVY"
      }
    },
    {
      "cell_type": "code",
      "source": [
        "l=['a','a','b','c','c']\n",
        "if l:\n",
        "  print(\"list is not empty\")\n",
        "else:\n",
        "  print(\"list is empty\")\n"
      ],
      "metadata": {
        "colab": {
          "base_uri": "https://localhost:8080/"
        },
        "outputId": "63cb4709-ac55-4dd7-c9a1-fd2f6b63c3bc",
        "id": "v5t9QK7aNI1-"
      },
      "execution_count": 23,
      "outputs": [
        {
          "output_type": "stream",
          "name": "stdout",
          "text": [
            "list is not empty\n"
          ]
        }
      ]
    },
    {
      "cell_type": "markdown",
      "source": [
        "###6. Write a Python program to filter the list if the length of the character is < 4\n",
        "Sample List : ['abc', 'xyz', 'aba', '1221']\n"
      ],
      "metadata": {
        "id": "zXL_nsQ4NqSo"
      }
    },
    {
      "cell_type": "code",
      "source": [
        "l=['abc','xyz','aba','1221']\n",
        "b=[i for i in l if len(i) <4]\n",
        "print(b)"
      ],
      "metadata": {
        "colab": {
          "base_uri": "https://localhost:8080/"
        },
        "id": "qj7DVbyoMdWJ",
        "outputId": "940bc59e-54ba-4bd7-e55e-302548f41ca0"
      },
      "execution_count": 30,
      "outputs": [
        {
          "output_type": "stream",
          "name": "stdout",
          "text": [
            "['abc', 'xyz', 'aba']\n"
          ]
        }
      ]
    },
    {
      "cell_type": "markdown",
      "source": [],
      "metadata": {
        "id": "hAkEzjatR2G3"
      }
    },
    {
      "cell_type": "markdown",
      "source": [
        "###7..Write a Python program to find the second largest number in a list."
      ],
      "metadata": {
        "id": "NEtn57JdR6x2"
      }
    },
    {
      "cell_type": "code",
      "source": [
        "l=[20,30,40,50]\n",
        "b=l.sort()\n",
        "c=l[-2]\n",
        "print(c)"
      ],
      "metadata": {
        "colab": {
          "base_uri": "https://localhost:8080/"
        },
        "id": "1AGIT6QZPuu9",
        "outputId": "2769806c-5651-49e9-a6f6-7ea0769df20c"
      },
      "execution_count": 38,
      "outputs": [
        {
          "output_type": "stream",
          "name": "stdout",
          "text": [
            "40\n"
          ]
        }
      ]
    },
    {
      "cell_type": "markdown",
      "source": [
        "###8. Write a Python program to reverse a list at a specific location"
      ],
      "metadata": {
        "id": "p6LW2qz5UtQm"
      }
    },
    {
      "cell_type": "code",
      "source": [
        "b=[1,2,3,4,5,6]\n",
        "location=int(input(\"Enter a location to reverse the list :\"))\n",
        "if (location<0 or location>=len(b)):\n",
        "  print(\"invalid location\")\n",
        "else:\n",
        "  newmylist1=b[:location+1]\n",
        "  newmylist1.reverse()\n",
        "  newmylist2=b[location+1:]\n",
        "  newmylist3=newmylist1+newmylist2\n",
        "print(f\"List after reversing at the location {location} is : {newmylist3}\")"
      ],
      "metadata": {
        "colab": {
          "base_uri": "https://localhost:8080/"
        },
        "id": "PRn_bINwUu-n",
        "outputId": "a3f94d07-993d-4a0a-f77e-2216a98701a4"
      },
      "execution_count": 45,
      "outputs": [
        {
          "output_type": "stream",
          "name": "stdout",
          "text": [
            "Enter a location to reverse the list :4\n",
            "List after reversing at the location 4 is : [5, 4, 3, 2, 1, 6]\n"
          ]
        }
      ]
    },
    {
      "cell_type": "markdown",
      "source": [
        "###9. Write a Python program to check if a list is a palindrome or not. Return true otherwise false"
      ],
      "metadata": {
        "id": "FjHSSTXLYxWW"
      }
    },
    {
      "cell_type": "code",
      "source": [
        "b=  [\"apple\", \"banana\", \"kiwi\", \"banana\", \"apple\"]\n",
        "if b:\n",
        "    if b == b[::-1]:\n",
        "        print(\"The given list is palindrome\")\n",
        "    else:\n",
        "        print(\"The given list is not palindrome\")\n",
        "else:\n",
        "    print(\"List is empty\")"
      ],
      "metadata": {
        "colab": {
          "base_uri": "https://localhost:8080/"
        },
        "id": "qE-_JoZcV906",
        "outputId": "82f55993-706c-4d02-86f6-0d6fd457032b"
      },
      "execution_count": 46,
      "outputs": [
        {
          "output_type": "stream",
          "name": "stdout",
          "text": [
            "The given list is palindrome\n"
          ]
        }
      ]
    },
    {
      "cell_type": "markdown",
      "source": [
        "###10. Write a Python a program to find the union and intersection of two lists.\n"
      ],
      "metadata": {
        "id": "SqFYYP5OZgMF"
      }
    },
    {
      "cell_type": "code",
      "source": [
        "a=[1,2,3,4,5,6]\n",
        "b=[2,4,8,9,12]\n",
        "union=list(set(a+b))\n",
        "intersection=[i for i in a if(i in b)]\n",
        "print(f\"Union of the two list is : {union} \")\n",
        "print(f\"intersection of the two list is : {intersection} \")"
      ],
      "metadata": {
        "colab": {
          "base_uri": "https://localhost:8080/"
        },
        "id": "IDa59hQgZh4g",
        "outputId": "a6b1e618-ceef-4ddf-9b15-c618c8a09567"
      },
      "execution_count": 47,
      "outputs": [
        {
          "output_type": "stream",
          "name": "stdout",
          "text": [
            "Union of the two list is : [1, 2, 3, 4, 5, 6, 8, 9, 12] \n",
            "intersection of the two list is : [2, 4] \n"
          ]
        }
      ]
    },
    {
      "cell_type": "markdown",
      "source": [
        "###11.Write a Python script to sort (ascending and descending) a dictionary by value\n"
      ],
      "metadata": {
        "id": "GOsXkS48aMo_"
      }
    },
    {
      "cell_type": "code",
      "source": [
        "a={'a':5,\n",
        "        'b':1,\n",
        "        'c':3}\n",
        "a_asc=dict(sorted(a.items(),key=lambda item:item[1]))\n",
        "b_dec=dict(sorted(a.items(),key=lambda item:item[1],reverse=True))\n",
        "print(f\"The dictionary in ascending : {a_asc}\")\n",
        "print(f\"The dictionary in descending : {b_dec}\")\n",
        ""
      ],
      "metadata": {
        "colab": {
          "base_uri": "https://localhost:8080/"
        },
        "id": "cxY6ZWM_aQ28",
        "outputId": "e80aa507-3f1c-498e-a053-15e2219c18f7"
      },
      "execution_count": 48,
      "outputs": [
        {
          "output_type": "stream",
          "name": "stdout",
          "text": [
            "The dictionary in ascending : {'b': 1, 'c': 3, 'a': 5}\n",
            "The dictionary in descending : {'a': 5, 'c': 3, 'b': 1}\n"
          ]
        }
      ]
    },
    {
      "cell_type": "markdown",
      "source": [
        "###12. Write a Python script to check whether a given key already exists in a dictionary.\n"
      ],
      "metadata": {
        "id": "Op2bEsXOfGCt"
      }
    },
    {
      "cell_type": "code",
      "source": [
        "b={'a':1,'b':2,'c':3}\n",
        "k=input(\"Enter the key to be searched in dictionary : \")\n",
        "if k in b:\n",
        "  print(\"The given key exists in dicitionary \")\n",
        "else:\n",
        "  print(\"The given key doesnot exists in dicitionary \")\n",
        "\n",
        "\n"
      ],
      "metadata": {
        "colab": {
          "base_uri": "https://localhost:8080/"
        },
        "id": "OYd2A4mtbUXl",
        "outputId": "193fbfad-8899-40b0-f3bd-ba56f14241bf"
      },
      "execution_count": 58,
      "outputs": [
        {
          "output_type": "stream",
          "name": "stdout",
          "text": [
            "Enter the key to be searched in dictionary : a\n",
            "The given key exists in dicitionary \n"
          ]
        }
      ]
    },
    {
      "cell_type": "markdown",
      "source": [
        "###13.Write a Python program to sum all the values in a dictionary.\n"
      ],
      "metadata": {
        "id": "HsYuMQ4DfrUk"
      }
    },
    {
      "cell_type": "code",
      "source": [
        "a={'a':1,'b':2,'c':3}\n",
        "total=0\n",
        "for i in a.values():\n",
        "  total+=i\n",
        "print(f\"The sum of all the values in the dictionay is : {total}\")\n",
        ""
      ],
      "metadata": {
        "colab": {
          "base_uri": "https://localhost:8080/"
        },
        "id": "mWa8Me04dUr1",
        "outputId": "0a7d7ea3-beae-440d-8f8b-3a31a3f3d5ef"
      },
      "execution_count": 59,
      "outputs": [
        {
          "output_type": "stream",
          "name": "stdout",
          "text": [
            "The sum of all the values in the dictionay is : 6\n"
          ]
        }
      ]
    },
    {
      "cell_type": "markdown",
      "source": [
        "###14.Write a Python program to create a dictionary with a number and its corresponding square from 1 to input number. And also check if the input number is less than 10\n",
        "Eg:\n",
        "Input : 3\n",
        "Output : {1:1, 2:4, 3:9}\n"
      ],
      "metadata": {
        "id": "_MPLXhh7gSOr"
      }
    },
    {
      "cell_type": "code",
      "source": [
        "num=int(input(\"Enter a number :\"))\n",
        "if(num>=10):\n",
        "  print(\"Entered number must be less than 10 \")\n",
        "else:\n",
        "  mydict={i:i*i for i in range(1,num+1)}\n",
        "  print(f\"The required dictionay is :{mydict}\")\n",
        ""
      ],
      "metadata": {
        "colab": {
          "base_uri": "https://localhost:8080/"
        },
        "id": "RBy9BJstgUJN",
        "outputId": "a06d7146-452d-4ae1-eff1-1c92ba8d40bf"
      },
      "execution_count": 60,
      "outputs": [
        {
          "output_type": "stream",
          "name": "stdout",
          "text": [
            "Enter a number :3\n",
            "The required dictionay is :{1: 1, 2: 4, 3: 9}\n"
          ]
        }
      ]
    },
    {
      "cell_type": "markdown",
      "source": [
        "###15.Write a Python program to sort a given dictionary by key."
      ],
      "metadata": {
        "id": "A31oLPemhg6M"
      }
    },
    {
      "cell_type": "code",
      "source": [
        "a={\"b\":\"ball\",\"r\":\"rat\",\"a\":\"apple\",\"c\":\"car\"}\n",
        "b=dict(sorted(a.items()))\n",
        "print(b)\n",
        "\n",
        "\n"
      ],
      "metadata": {
        "colab": {
          "base_uri": "https://localhost:8080/"
        },
        "id": "3hP5Dh-ehix3",
        "outputId": "8bcb770c-7cc8-484a-c068-3be1a92c67b8"
      },
      "execution_count": 73,
      "outputs": [
        {
          "output_type": "stream",
          "name": "stdout",
          "text": [
            "{'a': 'apple', 'b': 'ball', 'c': 'car', 'r': 'rat'}\n"
          ]
        }
      ]
    },
    {
      "cell_type": "markdown",
      "source": [
        "###16.  Write a Python program to create a dictionary from a string.\n",
        "Note: Track the count of the letters from the string.\n",
        "Sample string : 'learnpython'\n",
        "Expected output: {'l': 1, 'e': 1, 'a': 1, 'r': 1, 'n': 2, 'p': 1, 'y': 1, 't': 1, 'h': 1, 'o': 1}\n"
      ],
      "metadata": {
        "id": "xpb78x_Hlhzb"
      }
    },
    {
      "cell_type": "code",
      "source": [
        "string=\"learnpython\"\n",
        "a={}\n",
        "for i in string:\n",
        "  if(i in a):\n",
        "    a[i]+=1\n",
        "  else:\n",
        "    a[i]=1\n",
        "print(f\"The dictionay from the string is :{a}\")"
      ],
      "metadata": {
        "colab": {
          "base_uri": "https://localhost:8080/"
        },
        "id": "Zu8SOm93i01j",
        "outputId": "fe066649-8e18-496f-dfcc-d3ca24ca0a95"
      },
      "execution_count": 71,
      "outputs": [
        {
          "output_type": "stream",
          "name": "stdout",
          "text": [
            "The dictionay from the string is :{'l': 1, 'e': 1, 'a': 1, 'r': 1, 'n': 2, 'p': 1, 'y': 1, 't': 1, 'h': 1, 'o': 1}\n"
          ]
        }
      ]
    },
    {
      "cell_type": "markdown",
      "source": [
        "###17. Write a Python program to get the top three items in a shop.\n",
        "Sample data: {'item1': 45.50, 'item2':35, 'item3': 41.30, 'item4':55, 'item5': 24}\n",
        "Expected Output:\n",
        "item4 55\n",
        "item1 45.5\n",
        "item3 41.3\n"
      ],
      "metadata": {
        "id": "lXxF_kXLmnS1"
      }
    },
    {
      "cell_type": "code",
      "source": [
        "shopitems={'item1': 45.50, 'item2':35, 'item3': 41.30, 'item4':55, 'item5': 24}\n",
        "sorteditems=sorted(shopitems.items(),key=lambda item: item[1],reverse=True)\n",
        "topthreeitems=sorteditems[:3]\n",
        "print(f\"The top three items in the shop is :{topthreeitems}\")\n",
        ""
      ],
      "metadata": {
        "colab": {
          "base_uri": "https://localhost:8080/"
        },
        "id": "9Lp45aBYmo2-",
        "outputId": "4de4b5f5-2e7f-4d9d-c8c6-096aad57d2a0"
      },
      "execution_count": 72,
      "outputs": [
        {
          "output_type": "stream",
          "name": "stdout",
          "text": [
            "The top three items in the shop is :[('item4', 55), ('item1', 45.5), ('item3', 41.3)]\n"
          ]
        }
      ]
    }
  ]
}