{
  "nbformat": 4,
  "nbformat_minor": 0,
  "metadata": {
    "colab": {
      "provenance": [],
      "include_colab_link": true
    },
    "kernelspec": {
      "name": "python3",
      "display_name": "Python 3"
    },
    "language_info": {
      "name": "python"
    }
  },
  "cells": [
    {
      "cell_type": "markdown",
      "metadata": {
        "id": "view-in-github",
        "colab_type": "text"
      },
      "source": [
        "<a href=\"https://colab.research.google.com/github/pksalma/PYTHON-ASSIGNMENTS/blob/main/RegEx_task_5.ipynb\" target=\"_parent\"><img src=\"https://colab.research.google.com/assets/colab-badge.svg\" alt=\"Open In Colab\"/></a>"
      ]
    },
    {
      "cell_type": "markdown",
      "source": [
        "1. Write a Python program to check that a string contains only a certain set of characters (in this case a-z, A-Z and 0-9).\n",
        "\n"
      ],
      "metadata": {
        "id": "fpQX9wBhb6ox"
      }
    },
    {
      "cell_type": "code",
      "execution_count": null,
      "metadata": {
        "id": "5HKhizIkbt59",
        "outputId": "ba8144ba-01ff-4eeb-aa65-d99ec8b40849",
        "colab": {
          "base_uri": "https://localhost:8080/"
        }
      },
      "outputs": [
        {
          "output_type": "stream",
          "name": "stdout",
          "text": [
            "The text ABCabc123 contains a-z A-z & 0-9\n"
          ]
        }
      ],
      "source": [
        "import re\n",
        "mytext=\"ABCabc123\"\n",
        "if re.search(\"^[a-zA-z0-9]*$\",mytext):\n",
        "  print(f\"The text {mytext} contains a-z A-z & 0-9\")\n",
        "else:\n",
        "  print(f\"The text {mytext} doesnot contains a-z A-z & 0-9\")"
      ]
    },
    {
      "cell_type": "markdown",
      "source": [
        "2. Write a Python program that matches a string that has an a followed by zero or more b's.\n",
        "\n"
      ],
      "metadata": {
        "id": "rtdxRzltcRtS"
      }
    },
    {
      "cell_type": "code",
      "source": [
        "\n",
        "import re\n",
        "mytext=\"abb\"\n",
        "if re.search(r\"ab*\",mytext):\n",
        "  print(f\"The text {mytext} contains a followed by zero or more b's\")\n",
        "else:\n",
        "  print(f\"The text {mytext} doesnot contains a followed by zero or more b's\")"
      ],
      "metadata": {
        "id": "ZjdCBYZAcZGl",
        "outputId": "92e56b97-831b-4aa6-c079-0a7f442f40f7",
        "colab": {
          "base_uri": "https://localhost:8080/"
        }
      },
      "execution_count": null,
      "outputs": [
        {
          "output_type": "stream",
          "name": "stdout",
          "text": [
            "The text abb contains a followed by zero or more b's\n"
          ]
        }
      ]
    },
    {
      "cell_type": "markdown",
      "source": [
        "3. Replace only the first occurrence of 5 with five for the given string\n",
        "\n"
      ],
      "metadata": {
        "id": "kyvbz3eNcZri"
      }
    },
    {
      "cell_type": "code",
      "source": [
        "import re\n",
        "ip = 'They ate 5 apples and 5 oranges'\n",
        "op=re.sub(r\"5\",\"five\",ip)\n",
        "print(op)\n"
      ],
      "metadata": {
        "id": "pgZy45dxcqSg",
        "outputId": "6423c94a-8e97-4c68-eb82-012cb2583222",
        "colab": {
          "base_uri": "https://localhost:8080/"
        }
      },
      "execution_count": null,
      "outputs": [
        {
          "output_type": "stream",
          "name": "stdout",
          "text": [
            "They ate five apples and five oranges\n"
          ]
        }
      ]
    },
    {
      "cell_type": "markdown",
      "source": [
        "4. Write a Python program that matches a string that has an a followed by three 'b'.\n",
        "\n"
      ],
      "metadata": {
        "id": "h_b1-o6ncuzM"
      }
    },
    {
      "cell_type": "code",
      "source": [
        "import re\n",
        "mytext=\"abbb\"\n",
        "if re.search(r\"ab{3}\",mytext):\n",
        "  print(f\"The text {mytext} contains an a followed by three 'b'\")\n",
        "else:\n",
        "  print(f\"The text {mytext} doesnot contains an a followed by three 'b'.\")"
      ],
      "metadata": {
        "id": "eWIRl3LccqwE",
        "outputId": "7ddc0e95-cfc1-486f-99a7-9b650e60bd3e",
        "colab": {
          "base_uri": "https://localhost:8080/"
        }
      },
      "execution_count": null,
      "outputs": [
        {
          "output_type": "stream",
          "name": "stdout",
          "text": [
            "The text abbb contains an a followed by three 'b'\n"
          ]
        }
      ]
    },
    {
      "cell_type": "markdown",
      "source": [
        "5. Write a Python program that matches a string that has an 'a' followed by anything ending in 'b'.\n",
        "\n"
      ],
      "metadata": {
        "id": "K2vPe01bc2LN"
      }
    },
    {
      "cell_type": "code",
      "source": [
        "import re\n",
        "mytext=\"a123b\"\n",
        "if re.search(r\"a.*b$\",mytext):\n",
        "  print(f\"The text {mytext} contains an'a' followed by anything ending in 'b'.\")\n",
        "else:\n",
        "  print(f\"The text {mytext} doesnot contains an 'a' followed by anything ending in 'b'.\")\n"
      ],
      "metadata": {
        "id": "f8KfX59qc3UJ",
        "outputId": "c6b5272c-2ce0-4932-80ac-faf5ef00fdda",
        "colab": {
          "base_uri": "https://localhost:8080/"
        }
      },
      "execution_count": null,
      "outputs": [
        {
          "output_type": "stream",
          "name": "stdout",
          "text": [
            "The text a123b contains an'a' followed by anything ending in 'b'.\n"
          ]
        }
      ]
    },
    {
      "cell_type": "markdown",
      "source": [
        "6. Write a Python program to search for numbers (0-9) of length between 1 and 3 in a given string."
      ],
      "metadata": {
        "id": "NyL-DhqXdZi7"
      }
    },
    {
      "cell_type": "code",
      "source": [
        "import re\n",
        "txt=\"Exercises number 1, 12, 13, and 345 are important\"\n",
        "output=re.findall(r\"\\b\\d{1,3}\\b\",txt)\n",
        "print(f\"The output is {output} \")\n"
      ],
      "metadata": {
        "id": "pWsu0HljdnKX",
        "colab": {
          "base_uri": "https://localhost:8080/"
        },
        "outputId": "3efd12dc-e532-46a6-aa2c-51c93b01cf98"
      },
      "execution_count": null,
      "outputs": [
        {
          "output_type": "stream",
          "name": "stdout",
          "text": [
            "The output is ['1', '12', '13', '345'] \n"
          ]
        }
      ]
    },
    {
      "cell_type": "markdown",
      "source": [
        "7. Write a Python program to search for literal strings within a string.\\\n",
        "Sample text : 'The quick brown fox jumps over the lazy dog.' \\\n",
        "Searched words : 'fox', 'dog', 'horse'"
      ],
      "metadata": {
        "id": "aWaHWXFjdqy7"
      }
    },
    {
      "cell_type": "code",
      "source": [
        "import re\n",
        "sample_text=\"The quick brown fox jumps over the lazy dog\"\n",
        "searched_words=[ 'fox', 'dog', 'horse']\n",
        "for i in searched_words:\n",
        "  if re.search(i,sample_text):\n",
        "    print(f\"The word {i} is found in the sample text\")\n",
        "  else:\n",
        "    print(f\"The word {i} is not found in the sample text\")"
      ],
      "metadata": {
        "id": "bVAMeTMddnmf",
        "outputId": "c58f1ea1-9227-4e24-8962-11d977e2995e",
        "colab": {
          "base_uri": "https://localhost:8080/"
        }
      },
      "execution_count": null,
      "outputs": [
        {
          "output_type": "stream",
          "name": "stdout",
          "text": [
            "The word fox is found in the sample text\n",
            "The word dog is found in the sample text\n",
            "The word horse is not found in the sample text\n"
          ]
        }
      ]
    },
    {
      "cell_type": "markdown",
      "source": [
        "8. Write a Python program to search for a literal string in a string and also find the location within the original string where the pattern occurs.\n",
        "\n",
        "Sample text : 'The quick brown fox jumps over the lazy dog.' \\\n",
        "Searched words : 'fox'"
      ],
      "metadata": {
        "id": "2cgZLc6Yd0sE"
      }
    },
    {
      "cell_type": "code",
      "source": [
        "import re\n",
        "sample_text=\"The quick brown fox jumps over the lazy dog\"\n",
        "searched_words='fox'\n",
        "match=re.search(searched_words,sample_text)\n",
        "if match:\n",
        "  print(f\"The word {searched_words} is found in the text\")\n",
        "  print(f\"The word{searched_words} starts at index {match.start()} and ends at index {match.end()-1}\")\n",
        "else:\n",
        "  print(f\"The word {searched_words} not found in the text\")\n"
      ],
      "metadata": {
        "id": "Tj1FCCx4d3zZ",
        "outputId": "12ae2db8-d0f8-4e40-b853-fff04e194d22",
        "colab": {
          "base_uri": "https://localhost:8080/"
        }
      },
      "execution_count": null,
      "outputs": [
        {
          "output_type": "stream",
          "name": "stdout",
          "text": [
            "The word fox is found in the text\n",
            "The wordfox starts at index 16 and ends at index 18\n"
          ]
        }
      ]
    },
    {
      "cell_type": "markdown",
      "source": [
        "9.  Write a Python program to extract year, month and date from an URL"
      ],
      "metadata": {
        "id": "ixuwdsnvdtcP"
      }
    },
    {
      "cell_type": "code",
      "source": [
        "import re\n",
        "url1= \"https://www.washingtonpost.com/news/football-insider/wp/2016/09/02/odell-beckhams-fame-rests-on-one-stupid-little-ball-josh-norman-tells-author/\"\n",
        "match=re.search(r'/(\\d{4})/(\\d{2})/(\\d{2})/',url1)\n",
        "if match:\n",
        "  year=match.group(1)\n",
        "  month=match.group(2)\n",
        "  date=match.group(3)\n",
        "  print(f\"year : {year} month : {month} date :{date}\")\n",
        "else:\n",
        "  print(\"year month date not found in url\")\n"
      ],
      "metadata": {
        "id": "uWA2_OfJeFpw",
        "colab": {
          "base_uri": "https://localhost:8080/"
        },
        "outputId": "32beb589-2f96-4a0e-80aa-87dd80ecdab7"
      },
      "execution_count": null,
      "outputs": [
        {
          "output_type": "stream",
          "name": "stdout",
          "text": [
            "year : 2016 month : 09 date :02\n"
          ]
        }
      ]
    },
    {
      "cell_type": "markdown",
      "source": [
        "10. Write a Python program to find URLs in a string.\n",
        "\n"
      ],
      "metadata": {
        "id": "Qdob8Ojkea-W"
      }
    },
    {
      "cell_type": "code",
      "source": [
        "import re\n",
        "\n",
        "\n",
        "text = 'Check out these websites: https://example.com and http://another-example.com for more information.'\n",
        "\n",
        "\n",
        "url_pattern = r\"https?://[^\\s]+\"\n",
        "\n",
        "\n",
        "urls = re.findall(url_pattern, text)\n",
        "\n",
        "\n",
        "print(\"The URLs are:\")\n",
        "for url in urls:\n",
        "    print(url)\n"
      ],
      "metadata": {
        "id": "zZor7EE-thIK",
        "outputId": "14016012-40f9-41d8-b739-ed3976fad891",
        "colab": {
          "base_uri": "https://localhost:8080/"
        }
      },
      "execution_count": null,
      "outputs": [
        {
          "output_type": "stream",
          "name": "stdout",
          "text": [
            "The URLs are:\n",
            "https://example.com\n",
            "http://another-example.com\n"
          ]
        }
      ]
    },
    {
      "cell_type": "markdown",
      "source": [
        "11. Write a Python program to remove the parenthesis area in a string.\\\n",
        "\n",
        "Sample data : [\"example (.com)\", \"w3resource\", \"github (.com)\", \"stackoverflow (.com)\"] \\\n",
        "Expected Output: \\\n",
        "example  \\\n",
        "w3resource \\\n",
        "github  \\\n",
        "stackoverflow. \\\n",
        "\n"
      ],
      "metadata": {
        "id": "5mX_cCEFepSi"
      }
    },
    {
      "cell_type": "code",
      "source": [
        "import re\n",
        "\n",
        "\n",
        "sample_data = [\"example (.com)\", \"w3resource\", \"github (.com)\", \"stackoverflow (.com)\"]\n",
        "\n",
        "\n",
        "output = []\n",
        "\n",
        "\n",
        "for item in sample_data:\n",
        "\n",
        "    newdata = re.sub(r'\\s*\\([^)]*\\)', '', item)\n",
        "    output.append(newdata)\n",
        "\n",
        "print(\"The desired output:\")\n",
        "for result in output:\n",
        "    print(result)\n"
      ],
      "metadata": {
        "id": "CNYOSWfLee_M",
        "colab": {
          "base_uri": "https://localhost:8080/"
        },
        "outputId": "1dbf1925-3e0a-41ae-8fd1-149294c89146"
      },
      "execution_count": null,
      "outputs": [
        {
          "output_type": "stream",
          "name": "stdout",
          "text": [
            "The desired output:\n",
            "example\n",
            "w3resource\n",
            "github\n",
            "stackoverflow\n"
          ]
        }
      ]
    },
    {
      "cell_type": "markdown",
      "source": [
        "12. Write a Python program to concatenate the consecutive numbers in a given string. \\\n",
        "\n",
        "Original string:  \\\n",
        "Enter at 1 20 Kearny Street. The security desk can direct you to floor 1 6. Please have your identification ready.  \\\n",
        "\n",
        "After concatenating the consecutive numbers in the said string:  \\\n",
        "Enter at 120 Kearny Street. The security desk can direct you to floor 16. Please have your identification ready."
      ],
      "metadata": {
        "id": "sRhveFHXe7nz"
      }
    },
    {
      "cell_type": "code",
      "source": [
        "\n",
        "import re\n",
        "txt=\"Enter at 1 20 Kearny Street. The security desk can direct you to floor 1 6. Please have your identification ready.\"\n",
        "output=re.sub(r'(\\b\\d+)\\s+(\\d+\\b)',lambda x:x.group(1)+x.group(2),txt)\n",
        "print(f\"The desired output is {output}\")"
      ],
      "metadata": {
        "id": "4dcBL0RTe_zP",
        "outputId": "d5b0bc5f-e5c8-4bee-84a2-c5cd29d8562e",
        "colab": {
          "base_uri": "https://localhost:8080/"
        }
      },
      "execution_count": null,
      "outputs": [
        {
          "output_type": "stream",
          "name": "stdout",
          "text": [
            "The desired output is Enter at 120 Kearny Street. The security desk can direct you to floor 16. Please have your identification ready.\n"
          ]
        }
      ]
    },
    {
      "cell_type": "markdown",
      "source": [],
      "metadata": {
        "id": "rENrD10afBB3"
      }
    }
  ]
}