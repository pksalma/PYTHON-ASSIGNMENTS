{
  "nbformat": 4,
  "nbformat_minor": 0,
  "metadata": {
    "colab": {
      "provenance": [],
      "authorship_tag": "ABX9TyMj34CZDq2kLkjxIXBV9sKK",
      "include_colab_link": true
    },
    "kernelspec": {
      "name": "python3",
      "display_name": "Python 3"
    },
    "language_info": {
      "name": "python"
    }
  },
  "cells": [
    {
      "cell_type": "markdown",
      "metadata": {
        "id": "view-in-github",
        "colab_type": "text"
      },
      "source": [
        "<a href=\"https://colab.research.google.com/github/pksalma/PYTHON-ASSIGNMENTS/blob/main/python_task3.ipynb\" target=\"_parent\"><img src=\"https://colab.research.google.com/assets/colab-badge.svg\" alt=\"Open In Colab\"/></a>"
      ]
    },
    {
      "cell_type": "code",
      "execution_count": null,
      "metadata": {
        "id": "fNBR2jcMoSjb"
      },
      "outputs": [],
      "source": []
    },
    {
      "cell_type": "markdown",
      "source": [
        "1.Write Python code that prints your name, student number and email address."
      ],
      "metadata": {
        "id": "mXk2yPR-ofmh"
      }
    },
    {
      "cell_type": "code",
      "source": [
        "name=input(\"Enter your name:\")\n",
        "studentno=input(\"Enter your student number:\")\n",
        "email=input(\"Enter your email adddress:\")\n",
        "print(\"STUDENT DETAILS\")\n",
        "print(name)\n",
        "print(studentno)\n",
        "print(email)"
      ],
      "metadata": {
        "colab": {
          "base_uri": "https://localhost:8080/"
        },
        "id": "cDZCstbJohf4",
        "outputId": "d9543ab1-d6a6-4d60-e833-91649283c6f2"
      },
      "execution_count": 1,
      "outputs": [
        {
          "output_type": "stream",
          "name": "stdout",
          "text": [
            "Enter your name:salma\n",
            "Enter your student number:32\n",
            "Enter your email adddress:salm@mail.com\n",
            "STUDENT DETAILS\n",
            "salma\n",
            "32\n",
            "salm@mail.com\n"
          ]
        }
      ]
    },
    {
      "cell_type": "markdown",
      "source": [
        "2.Write Python code that prints your name, student number and email address using escape sequences."
      ],
      "metadata": {
        "id": "smpM5-cMoxug"
      }
    },
    {
      "cell_type": "code",
      "source": [
        "name=input(\"Enter your name:\")\n",
        "studentno=input(\"Enter your student number:\")\n",
        "email=input(\"Enter your email adddress:\")\n",
        "print(\"STUDENT DETAILS\")\n",
        "print(f\"{name}\\n{studentno}\\n{email}\")"
      ],
      "metadata": {
        "colab": {
          "base_uri": "https://localhost:8080/"
        },
        "id": "5r1hEKWyo0sp",
        "outputId": "52577b4b-75b5-4b39-f693-43acc0ad8f81"
      },
      "execution_count": 2,
      "outputs": [
        {
          "output_type": "stream",
          "name": "stdout",
          "text": [
            "Enter your name:salma\n",
            "Enter your student number:32\n",
            "Enter your email adddress:salm@mail.com\n",
            "STUDENT DETAILS\n",
            "salma\n",
            "32\n",
            "salm@mail.com\n"
          ]
        }
      ]
    },
    {
      "cell_type": "markdown",
      "source": [
        "3.Write Python code that add, subtract, multiply and divide the two numbers. You can use the two numbers 14 and 7."
      ],
      "metadata": {
        "id": "_4i8cqUWpARv"
      }
    },
    {
      "cell_type": "code",
      "source": [
        "print(\"Addtion,Subtraction,multiplication and division of 14 and 7\")\n",
        "num1=14\n",
        "num2=7\n",
        "print(f\"{num1}+{num2}={num1+num2}\")\n",
        "print(f\"{num1}-{num2}={num1-num2}\")\n",
        "print(f\"{num1}*{num2}={num1*num2}\")\n",
        "print(f\"{num1}/{num2}={num1/num2}\")"
      ],
      "metadata": {
        "colab": {
          "base_uri": "https://localhost:8080/"
        },
        "id": "ItF7ParJo_Do",
        "outputId": "b3072bc0-f721-4b70-d3c2-f8af461f1d42"
      },
      "execution_count": 3,
      "outputs": [
        {
          "output_type": "stream",
          "name": "stdout",
          "text": [
            "Addtion,Subtraction,multiplication and division of 14 and 7\n",
            "14+7=21\n",
            "14-7=7\n",
            "14*7=98\n",
            "14/7=2.0\n"
          ]
        }
      ]
    },
    {
      "cell_type": "markdown",
      "source": [
        "4.Write Python code that displays the numbers from 1 to 5 as steps"
      ],
      "metadata": {
        "id": "kyc_wrVspIzn"
      }
    },
    {
      "cell_type": "code",
      "source": [
        "for i in range(1,6):\n",
        "  print(i)"
      ],
      "metadata": {
        "colab": {
          "base_uri": "https://localhost:8080/"
        },
        "id": "JOi2YtGKpNWg",
        "outputId": "cd9eebcf-d904-41da-c56e-8ebed7729ad5"
      },
      "execution_count": 4,
      "outputs": [
        {
          "output_type": "stream",
          "name": "stdout",
          "text": [
            "1\n",
            "2\n",
            "3\n",
            "4\n",
            "5\n"
          ]
        }
      ]
    },
    {
      "cell_type": "markdown",
      "source": [
        "5.Write Python code that outputs the following sentence (including the quotation marks and line break) to the screen: An example runs of the program:\n",
        "\"SDK\" stands for \"Software Development Kit\", whereas \"IDE\" stands for \"Integrated Development Environment\"."
      ],
      "metadata": {
        "id": "ztkqZgSDpR0m"
      }
    },
    {
      "cell_type": "code",
      "source": [
        "print('''\"SDK\" stands for \"Software Development Kit\", whereas\n",
        "\"IDE\" stands for \"Integrated Development Environment\".''')"
      ],
      "metadata": {
        "colab": {
          "base_uri": "https://localhost:8080/"
        },
        "id": "grSw8A2WpW0_",
        "outputId": "752ec630-4689-46c4-e23d-0dfb8387bde1"
      },
      "execution_count": 5,
      "outputs": [
        {
          "output_type": "stream",
          "name": "stdout",
          "text": [
            "\"SDK\" stands for \"Software Development Kit\", whereas\n",
            "\"IDE\" stands for \"Integrated Development Environment\".\n"
          ]
        }
      ]
    },
    {
      "cell_type": "markdown",
      "source": [
        "6.Practice and check the output print(\"python is an \"awesome\" language.\") print(\"python\\n\\t2023\") print('I'm from Entri.\\b') print(\"\\65\") print(\"\\x65\") print(\"Entri\", \"2023\", sep=\"\\n\") print(\"Entri\", \"2023\", sep=\"\\b\") print(\"Entri\", \"2023\", sep=\"*\", end=\"\\b\\b\\b\\b\")"
      ],
      "metadata": {
        "id": "RFM_yQyWpbkF"
      }
    },
    {
      "cell_type": "code",
      "source": [
        "print(\"python is an \\\"awesome\\\" language.\")\n",
        "print(\"python\\n\\t2023\")\n",
        "print('I\\'m from Entri.\\b')\n",
        "print(\"\\65\")\n",
        "print(\"\\x65\")\n",
        "print(\"Entri\", \"2023\", sep=\"\\n\")\n",
        "print(\"Entri\", \"2023\", sep=\"\\b\")\n",
        "print(\"Entri\", \"2023\", sep=\"*\", end=\"\\b\\b\\b\\b\")"
      ],
      "metadata": {
        "colab": {
          "base_uri": "https://localhost:8080/"
        },
        "id": "h4pfeNoIpgHu",
        "outputId": "a5fb41fe-18f1-4af3-e825-fb247899cd17"
      },
      "execution_count": 6,
      "outputs": [
        {
          "output_type": "stream",
          "name": "stdout",
          "text": [
            "python is an \"awesome\" language.\n",
            "python\n",
            "\t2023\n",
            "I'm from Entri.\b\n",
            "5\n",
            "e\n",
            "Entri\n",
            "2023\n",
            "Entri\b2023\n",
            "Entri*2023\b\b\b\b"
          ]
        }
      ]
    },
    {
      "cell_type": "markdown",
      "source": [
        "7.Define the variables below. Print the types of each variable. What is the sum of your variables? (Hint: use a type conversion function.) What datatype is the sum? num=23 textnum=\"57\" decimal=98.3"
      ],
      "metadata": {
        "id": "ySEkjbQkpoa4"
      }
    },
    {
      "cell_type": "code",
      "source": [
        "num=23\n",
        "textnum=\"57\"\n",
        "decimal=98.3\n",
        "print(\"The datatype of given variables are :\")\n",
        "print(type(num))\n",
        "print(type(textnum))\n",
        "print(type(decimal))\n",
        "sum=num+int(textnum)+decimal\n",
        "print(f\"The datatype of sum is: {type(sum)}\")"
      ],
      "metadata": {
        "colab": {
          "base_uri": "https://localhost:8080/"
        },
        "id": "rV6nh8dnprzv",
        "outputId": "22bcdd8b-7c61-412a-f744-dddbd6c89221"
      },
      "execution_count": 7,
      "outputs": [
        {
          "output_type": "stream",
          "name": "stdout",
          "text": [
            "The datatype of given variables are :\n",
            "<class 'int'>\n",
            "<class 'str'>\n",
            "<class 'float'>\n",
            "The datatype of sum is: <class 'float'>\n"
          ]
        }
      ]
    },
    {
      "cell_type": "markdown",
      "source": [
        "8.calculate the number of minutes in a year using variables for each unit of time. print a statement that describes what your code does also. Create three variables to store no of days in a year, minute in a hour, hours in a day, then calculate the total minutes in a year and print the values"
      ],
      "metadata": {
        "id": "nHRiZBQ1pwaH"
      }
    },
    {
      "cell_type": "code",
      "source": [
        "days_in_a_year=365\n",
        "hours_in_a_day=24\n",
        "minutes_in_a_hour=60\n",
        "total_minutes=days_in_a_year*hours_in_a_day*minutes_in_a_hour\n",
        "print(\"We get the total minutes in a year by multliplying total days in a year,total hours in a day and total minutes in an hour \")\n",
        "print(f\"total minutes in a year is :{total_minutes}\")\n",
        "print(f\"total days in a year is :{days_in_a_year}\")\n",
        "print(f\"total hours in a day is :{hours_in_a_day}\")\n",
        "print(f\"total minutes in a hour is :{minutes_in_a_hour}\")"
      ],
      "metadata": {
        "colab": {
          "base_uri": "https://localhost:8080/"
        },
        "id": "W6IinMaJp0MO",
        "outputId": "5c2404a3-56ca-47e8-ba8d-ce38ccf7a3cd"
      },
      "execution_count": 8,
      "outputs": [
        {
          "output_type": "stream",
          "name": "stdout",
          "text": [
            "We get the total minutes in a year by multliplying total days in a year,total hours in a day and total minutes in an hour \n",
            "total minutes in a year is :525600\n",
            "total days in a year is :365\n",
            "total hours in a day is :24\n",
            "total minutes in a hour is :60\n"
          ]
        }
      ]
    },
    {
      "cell_type": "markdown",
      "source": [
        "9.Write Python code that asks the user to enter his/her name and then output/prints his/her name with a greeting. An example runs of the program: Please enter you name: Tony Hi Tony, welcome to Python programming :)"
      ],
      "metadata": {
        "id": "J1wQ4R2up4jG"
      }
    },
    {
      "cell_type": "code",
      "source": [
        "name=input(\"Please enter your name:\")\n",
        "print(f\"Hi {name},welcome to python programming:)\")"
      ],
      "metadata": {
        "colab": {
          "base_uri": "https://localhost:8080/"
        },
        "id": "1aClICH-p82u",
        "outputId": "9397793c-8657-4402-b238-18cd96c00da7"
      },
      "execution_count": 9,
      "outputs": [
        {
          "output_type": "stream",
          "name": "stdout",
          "text": [
            "Please enter your name:airin\n",
            "Hi airin,welcome to python programming:)\n"
          ]
        }
      ]
    },
    {
      "cell_type": "markdown",
      "source": [
        "10.Name your file: PoundsToDollars.py\n",
        "Write a program that asks the user to enter an amount in pounds (£) and the program calculates and converts an amount in dollar ($)\n",
        "An example runs of the program:\n",
        "Please enter amount in pounds: XXX\n",
        "£ XXX are $ XXX"
      ],
      "metadata": {
        "id": "DHB4fvCrqFEP"
      }
    },
    {
      "cell_type": "code",
      "source": [
        "pounds=int(input(\"Please Enter the amount in pounds :\"))\n",
        "dollars=pounds*1.41\n",
        "print(f\"£ {pounds} are $ {dollars}\")"
      ],
      "metadata": {
        "colab": {
          "base_uri": "https://localhost:8080/"
        },
        "id": "UG02vl3CqfCX",
        "outputId": "749ca2b3-b20a-414e-95b8-97a2218e3bb2"
      },
      "execution_count": 10,
      "outputs": [
        {
          "output_type": "stream",
          "name": "stdout",
          "text": [
            "Please Enter the amount in pounds :30\n",
            "£ 30 are $ 42.3\n"
          ]
        }
      ]
    }
  ]
}